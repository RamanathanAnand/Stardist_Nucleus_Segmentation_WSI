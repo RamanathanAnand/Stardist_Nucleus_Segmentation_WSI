{
 "cells": [
  {
   "cell_type": "code",
   "execution_count": null,
   "id": "702071c5-2139-433e-993d-d86d935880ee",
   "metadata": {},
   "outputs": [],
   "source": [
    "pip install stardist"
   ]
  },
  {
   "cell_type": "code",
   "execution_count": null,
   "id": "add1d451-b4e8-407d-b0d5-ef68c7d6739e",
   "metadata": {},
   "outputs": [],
   "source": [
    "import numpy as np\n",
    "import matplotlib.pyplot as plt\n",
    "from stardist import export_imagej_rois, random_label_cmap\n",
    "from stardist.models import StarDist2D\n",
    "import imageio\n",
    "from skimage.measure import label, regionprops\n",
    "import os\n",
    "from csbdeep.utils import Path, normalize\n",
    "\n",
    "# Input folder containing the images\n",
    "input_folder = 'D:/IMPART/NEW_METHOD_TRIAL/MANY/MANY IMAGES/Input_Images/Input'\n",
    "output_base_folder = 'D:/IMPART/NEW_METHOD_TRIAL/MANY/MANY IMAGES/Input_Images/Output'\n",
    "\n",
    "# Ensure that the base output folder exists\n",
    "os.makedirs(output_base_folder, exist_ok=True)\n",
    "\n",
    "# Initialize the StarDist model\n",
    "model = StarDist2D.from_pretrained('2D_versatile_he')\n",
    "\n",
    "# Iterate over each input image\n",
    "for filename in os.listdir(input_folder):\n",
    "    if filename.endswith('.png'):\n",
    "        # Read the input image\n",
    "        img = imageio.imread(os.path.join(input_folder, filename))\n",
    "        \n",
    "        # Make predictions using the model\n",
    "        he_labels, _ = model.predict_instances(normalize(img))\n",
    "        \n",
    "        # Save the prediction visualization\n",
    "        plt.rcParams[\"figure.figsize\"] = (20,10)\n",
    "        plt.subplot(1,2,1)\n",
    "        plt.imshow(img, cmap=\"gray\")\n",
    "        plt.axis(\"off\")\n",
    "        plt.title(\"Input image\")\n",
    "        \n",
    "        plt.subplot(1,2,2)\n",
    "        plt.imshow(he_labels)\n",
    "        plt.axis(\"off\")\n",
    "        plt.title(\"Prediction\")\n",
    "        \n",
    "        plt.savefig(os.path.join(output_base_folder, f'{os.path.splitext(filename)[0]}_prediction.png'))\n",
    "        plt.close()\n",
    "        \n",
    "        # Label the segmented nuclei\n",
    "        labeled_nuclei = label(he_labels)\n",
    "        \n",
    "        # Iterate over each labeled nucleus and save it as a separate image\n",
    "        for region in regionprops(labeled_nuclei):\n",
    "            y0, x0, y1, x1 = region.bbox\n",
    "            nucleus = img[y0:y1, x0:x1]\n",
    "            nucleus_filename = os.path.join(output_base_folder, f'nucleus_{os.path.splitext(filename)[0]}_{region.label}.png')\n",
    "            imageio.imwrite(nucleus_filename, nucleus)\n"
   ]
  },
  {
   "cell_type": "code",
   "execution_count": null,
   "id": "09e72ee3-d65d-45e1-9ca3-54f4117ff764",
   "metadata": {},
   "outputs": [],
   "source": []
  }
 ],
 "metadata": {
  "kernelspec": {
   "display_name": "Python 3 (ipykernel)",
   "language": "python",
   "name": "python3"
  },
  "language_info": {
   "codemirror_mode": {
    "name": "ipython",
    "version": 3
   },
   "file_extension": ".py",
   "mimetype": "text/x-python",
   "name": "python",
   "nbconvert_exporter": "python",
   "pygments_lexer": "ipython3",
   "version": "3.11.7"
  }
 },
 "nbformat": 4,
 "nbformat_minor": 5
}
